{
 "cells": [
  {
   "cell_type": "code",
   "execution_count": 12,
   "metadata": {
    "ExecuteTime": {
     "end_time": "2018-10-26T00:06:26.331469Z",
     "start_time": "2018-10-26T00:06:25.717835Z"
    }
   },
   "outputs": [],
   "source": [
    "import numpy as np\n",
    "import pandas as pd"
   ]
  },
  {
   "cell_type": "markdown",
   "metadata": {},
   "source": [
    "# reshape images to 14x14 -> 196 pixels"
   ]
  },
  {
   "cell_type": "code",
   "execution_count": 13,
   "metadata": {
    "ExecuteTime": {
     "end_time": "2018-10-26T00:06:34.826676Z",
     "start_time": "2018-10-26T00:06:26.379449Z"
    }
   },
   "outputs": [],
   "source": [
    "df_train = pd.read_csv('../data/train.csv')\n",
    "df_test = pd.read_csv('../data/test.csv')"
   ]
  },
  {
   "cell_type": "code",
   "execution_count": 14,
   "metadata": {
    "ExecuteTime": {
     "end_time": "2018-10-26T00:09:31.820128Z",
     "start_time": "2018-10-26T00:09:31.810133Z"
    }
   },
   "outputs": [],
   "source": [
    "def reshape_to_14x14(df):\n",
    "    _train = 'label' in df.columns\n",
    "    \n",
    "    _asd = np.zeros([df.shape[0], 196 + (1 if _train else 0)])\n",
    "    if _train:\n",
    "        _asd[:,0] = df.label.values\n",
    "    \n",
    "    for index, row in df.iterrows():\n",
    "        if _train:\n",
    "            _pixels = row.copy().drop('label').values.reshape(28,28)\n",
    "            _asd[index, 1:] = _pixels[::2,::2].reshape(-1,).copy()\n",
    "        else:\n",
    "            _pixels = row.copy().values.reshape(28,28)\n",
    "\n",
    "    df_red = pd.DataFrame(_asd.copy(), dtype=np.int, index = df.index)\n",
    "    if _train:\n",
    "        df_red = df_red.rename(columns = {0:'label'})\n",
    "    return df_red"
   ]
  },
  {
   "cell_type": "code",
   "execution_count": null,
   "metadata": {
    "ExecuteTime": {
     "end_time": "2018-10-26T00:10:45.586206Z",
     "start_time": "2018-10-26T00:09:45.919009Z"
    }
   },
   "outputs": [],
   "source": [
    "df_train_red = reshape_to_14x14(df_train)\n",
    "df_train_red.to_csv('../data/train_14x14.csv')"
   ]
  },
  {
   "cell_type": "code",
   "execution_count": 18,
   "metadata": {
    "ExecuteTime": {
     "end_time": "2018-10-26T00:09:45.915010Z",
     "start_time": "2018-10-26T00:09:33.997991Z"
    }
   },
   "outputs": [],
   "source": [
    "df_test_red = reshape_to_14x14(df_test)\n",
    "df_test_red.to_csv('../data/test_14x14.csv')"
   ]
  },
  {
   "cell_type": "code",
   "execution_count": 21,
   "metadata": {},
   "outputs": [],
   "source": [
    "from matplotlib import pyplot as plt"
   ]
  },
  {
   "cell_type": "code",
   "execution_count": 22,
   "metadata": {},
   "outputs": [
    {
     "data": {
      "image/png": "[encoded data removed]",
      "text/plain": [
       "<Figure size 432x288 with 1 Axes>"
      ]
     },
     "metadata": {
      "needs_background": "light"
     },
     "output_type": "display_data"
    }
   ],
   "source": [
    "first_image = df_train.iloc[28,1:].values.reshape(28,28)\n",
    "plt.imshow(first_image)\n",
    "plt.show()"
   ]
  },
  {
   "cell_type": "code",
   "execution_count": 23,
   "metadata": {},
   "outputs": [
    {
     "data": {
      "image/png": "[encoded data removed]",
      "text/plain": [
       "<Figure size 432x288 with 1 Axes>"
      ]
     },
     "metadata": {
      "needs_background": "light"
     },
     "output_type": "display_data"
    }
   ],
   "source": [
    "first_image = df_train_red.iloc[28,1:].values.reshape(14,14)\n",
    "plt.imshow(first_image)\n",
    "plt.show()"
   ]
  },
  {
   "cell_type": "markdown",
   "metadata": {},
   "source": [
    "## It seems that a lot of pixels are always empty (corners)"
   ]
  },
  {
   "cell_type": "code",
   "execution_count": null,
   "metadata": {},
   "outputs": [],
   "source": [
    "(df_train_red.sum()==0).sum()"
   ]
  },
  {
   "cell_type": "code",
   "execution_count": null,
   "metadata": {},
   "outputs": [],
   "source": [
    "23/196.0"
   ]
  },
  {
   "cell_type": "markdown",
   "metadata": {},
   "source": [
    "# 12% of the features can be dropped since they only contain 0's"
   ]
  }
 ],
 "metadata": {
  "kernelspec": {
   "display_name": "Python 3",
   "language": "python",
   "name": "python3"
  },
  "language_info": {
   "codemirror_mode": {
    "name": "ipython",
    "version": 3
   },
   "file_extension": ".py",
   "mimetype": "text/x-python",
   "name": "python",
   "nbconvert_exporter": "python",
   "pygments_lexer": "ipython3",
   "version": "3.7.0"
  }
 },
 "nbformat": 4,
 "nbformat_minor": 2
}
